{
 "cells": [
  {
   "cell_type": "code",
   "execution_count": 1,
   "id": "d4b8ee86",
   "metadata": {},
   "outputs": [],
   "source": [
    "import numpy as np\n",
    "import pandas as pd\n",
    "import matplotlib.pyplot as plt\n",
    "import seaborn as sns\n",
    "sns.set_style('whitegrid')"
   ]
  },
  {
   "cell_type": "code",
   "execution_count": 2,
   "id": "e26c3729",
   "metadata": {},
   "outputs": [],
   "source": [
    "df = pd.read_csv('sat.csv')"
   ]
  },
  {
   "cell_type": "code",
   "execution_count": 3,
   "id": "c4562f23",
   "metadata": {},
   "outputs": [
    {
     "data": {
      "text/html": [
       "<div>\n",
       "<style scoped>\n",
       "    .dataframe tbody tr th:only-of-type {\n",
       "        vertical-align: middle;\n",
       "    }\n",
       "\n",
       "    .dataframe tbody tr th {\n",
       "        vertical-align: top;\n",
       "    }\n",
       "\n",
       "    .dataframe thead th {\n",
       "        text-align: right;\n",
       "    }\n",
       "</style>\n",
       "<table border=\"1\" class=\"dataframe\">\n",
       "  <thead>\n",
       "    <tr style=\"text-align: right;\">\n",
       "      <th></th>\n",
       "      <th>SAT</th>\n",
       "      <th>GPA</th>\n",
       "    </tr>\n",
       "  </thead>\n",
       "  <tbody>\n",
       "    <tr>\n",
       "      <th>0</th>\n",
       "      <td>1714</td>\n",
       "      <td>2.40</td>\n",
       "    </tr>\n",
       "    <tr>\n",
       "      <th>1</th>\n",
       "      <td>1664</td>\n",
       "      <td>2.52</td>\n",
       "    </tr>\n",
       "    <tr>\n",
       "      <th>2</th>\n",
       "      <td>1760</td>\n",
       "      <td>2.54</td>\n",
       "    </tr>\n",
       "    <tr>\n",
       "      <th>3</th>\n",
       "      <td>1685</td>\n",
       "      <td>2.74</td>\n",
       "    </tr>\n",
       "    <tr>\n",
       "      <th>4</th>\n",
       "      <td>1693</td>\n",
       "      <td>2.83</td>\n",
       "    </tr>\n",
       "    <tr>\n",
       "      <th>...</th>\n",
       "      <td>...</td>\n",
       "      <td>...</td>\n",
       "    </tr>\n",
       "    <tr>\n",
       "      <th>79</th>\n",
       "      <td>1936</td>\n",
       "      <td>3.71</td>\n",
       "    </tr>\n",
       "    <tr>\n",
       "      <th>80</th>\n",
       "      <td>1810</td>\n",
       "      <td>3.71</td>\n",
       "    </tr>\n",
       "    <tr>\n",
       "      <th>81</th>\n",
       "      <td>1987</td>\n",
       "      <td>3.73</td>\n",
       "    </tr>\n",
       "    <tr>\n",
       "      <th>82</th>\n",
       "      <td>1962</td>\n",
       "      <td>3.76</td>\n",
       "    </tr>\n",
       "    <tr>\n",
       "      <th>83</th>\n",
       "      <td>2050</td>\n",
       "      <td>3.81</td>\n",
       "    </tr>\n",
       "  </tbody>\n",
       "</table>\n",
       "<p>84 rows × 2 columns</p>\n",
       "</div>"
      ],
      "text/plain": [
       "     SAT   GPA\n",
       "0   1714  2.40\n",
       "1   1664  2.52\n",
       "2   1760  2.54\n",
       "3   1685  2.74\n",
       "4   1693  2.83\n",
       "..   ...   ...\n",
       "79  1936  3.71\n",
       "80  1810  3.71\n",
       "81  1987  3.73\n",
       "82  1962  3.76\n",
       "83  2050  3.81\n",
       "\n",
       "[84 rows x 2 columns]"
      ]
     },
     "execution_count": 3,
     "metadata": {},
     "output_type": "execute_result"
    }
   ],
   "source": [
    "df"
   ]
  },
  {
   "cell_type": "code",
   "execution_count": 4,
   "id": "8c8c80d4",
   "metadata": {},
   "outputs": [],
   "source": [
    "x = df['SAT']"
   ]
  },
  {
   "cell_type": "code",
   "execution_count": 5,
   "id": "bae7cda7",
   "metadata": {},
   "outputs": [
    {
     "data": {
      "text/plain": [
       "0     1714\n",
       "1     1664\n",
       "2     1760\n",
       "3     1685\n",
       "4     1693\n",
       "      ... \n",
       "79    1936\n",
       "80    1810\n",
       "81    1987\n",
       "82    1962\n",
       "83    2050\n",
       "Name: SAT, Length: 84, dtype: int64"
      ]
     },
     "execution_count": 5,
     "metadata": {},
     "output_type": "execute_result"
    }
   ],
   "source": [
    "x"
   ]
  },
  {
   "cell_type": "code",
   "execution_count": 6,
   "id": "72566454",
   "metadata": {},
   "outputs": [],
   "source": [
    "y = df['GPA']"
   ]
  },
  {
   "cell_type": "code",
   "execution_count": 7,
   "id": "be087224",
   "metadata": {},
   "outputs": [
    {
     "data": {
      "text/plain": [
       "0     2.40\n",
       "1     2.52\n",
       "2     2.54\n",
       "3     2.74\n",
       "4     2.83\n",
       "      ... \n",
       "79    3.71\n",
       "80    3.71\n",
       "81    3.73\n",
       "82    3.76\n",
       "83    3.81\n",
       "Name: GPA, Length: 84, dtype: float64"
      ]
     },
     "execution_count": 7,
     "metadata": {},
     "output_type": "execute_result"
    }
   ],
   "source": [
    "y"
   ]
  },
  {
   "cell_type": "code",
   "execution_count": 8,
   "id": "0f20e22e",
   "metadata": {},
   "outputs": [
    {
     "data": {
      "image/png": "[encoded data removed]",
      "text/plain": [
       "<Figure size 432x288 with 1 Axes>"
      ]
     },
     "metadata": {},
     "output_type": "display_data"
    }
   ],
   "source": [
    "plt.scatter(x,y)\n",
    "plt.show()"
   ]
  },
  {
   "cell_type": "code",
   "execution_count": 9,
   "id": "804d9c2e",
   "metadata": {},
   "outputs": [
    {
     "name": "stdout",
     "output_type": "stream",
     "text": [
      "[PhysicalDevice(name='/physical_device:GPU:0', device_type='GPU')]\n"
     ]
    }
   ],
   "source": [
    "# only for cuda enabled laptop and desktop\n",
    "import tensorflow as tf\n",
    "physical_devices = tf.config.experimental.list_physical_devices('GPU')\n",
    "print(physical_devices)\n",
    "if physical_devices:\n",
    "  tf.config.experimental.set_memory_growth(physical_devices[0], True)"
   ]
  },
  {
   "cell_type": "code",
   "execution_count": 10,
   "id": "5e162c8d",
   "metadata": {},
   "outputs": [],
   "source": [
    "import keras\n",
    "import tensorflow as tf\n",
    "from keras.layers import Dense\n",
    "from keras.models import Sequential"
   ]
  },
  {
   "cell_type": "code",
   "execution_count": 11,
   "id": "fae1d087",
   "metadata": {},
   "outputs": [],
   "source": [
    "model = Sequential([\n",
    "    Dense(10,activation='relu',input_shape=[1],kernel_regularizer=keras.regularizers.l2(0.1)),\n",
    "    Dense(10,activation='relu'),\n",
    "    Dense(10,activation='relu'),\n",
    "    Dense(1)\n",
    "])"
   ]
  },
  {
   "cell_type": "code",
   "execution_count": 12,
   "id": "394200a0",
   "metadata": {},
   "outputs": [
    {
     "name": "stdout",
     "output_type": "stream",
     "text": [
      "Model: \"sequential\"\n",
      "_________________________________________________________________\n",
      "Layer (type)                 Output Shape              Param #   \n",
      "=================================================================\n",
      "dense (Dense)                (None, 10)                20        \n",
      "_________________________________________________________________\n",
      "dense_1 (Dense)              (None, 10)                110       \n",
      "_________________________________________________________________\n",
      "dense_2 (Dense)              (None, 10)                110       \n",
      "_________________________________________________________________\n",
      "dense_3 (Dense)              (None, 1)                 11        \n",
      "=================================================================\n",
      "Total params: 251\n",
      "Trainable params: 251\n",
      "Non-trainable params: 0\n",
      "_________________________________________________________________\n"
     ]
    }
   ],
   "source": [
    "model.summary()"
   ]
  },
  {
   "cell_type": "code",
   "execution_count": 13,
   "id": "9871285d",
   "metadata": {},
   "outputs": [],
   "source": [
    "optimizer = tf.keras.optimizers.RMSprop(learning_rate=0.0001)\n",
    "model.compile(loss='mean_squared_error',optimizer=optimizer)"
   ]
  },
  {
   "cell_type": "code",
   "execution_count": 14,
   "id": "50018eab",
   "metadata": {},
   "outputs": [
    {
     "name": "stdout",
     "output_type": "stream",
     "text": [
      "Epoch 1/50\n",
      "3/3 [==============================] - 1s 2ms/step - loss: 918.6683\n",
      "Epoch 2/50\n",
      "3/3 [==============================] - 0s 2ms/step - loss: 765.0168\n",
      "Epoch 3/50\n",
      "3/3 [==============================] - 0s 3ms/step - loss: 668.6833\n",
      "Epoch 4/50\n",
      "3/3 [==============================] - 0s 2ms/step - loss: 594.8062\n",
      "Epoch 5/50\n",
      "3/3 [==============================] - 0s 3ms/step - loss: 531.7593\n",
      "Epoch 6/50\n",
      "3/3 [==============================] - 0s 3ms/step - loss: 471.4547\n",
      "Epoch 7/50\n",
      "3/3 [==============================] - 0s 3ms/step - loss: 424.0914\n",
      "Epoch 8/50\n",
      "3/3 [==============================] - 0s 4ms/step - loss: 375.9285\n",
      "Epoch 9/50\n",
      "3/3 [==============================] - 0s 3ms/step - loss: 334.0048\n",
      "Epoch 10/50\n",
      "3/3 [==============================] - 0s 3ms/step - loss: 295.6670\n",
      "Epoch 11/50\n",
      "3/3 [==============================] - 0s 4ms/step - loss: 260.0534\n",
      "Epoch 12/50\n",
      "3/3 [==============================] - 0s 3ms/step - loss: 227.4080\n",
      "Epoch 13/50\n",
      "3/3 [==============================] - 0s 2ms/step - loss: 197.0076\n",
      "Epoch 14/50\n",
      "3/3 [==============================] - 0s 3ms/step - loss: 169.9114\n",
      "Epoch 15/50\n",
      "3/3 [==============================] - 0s 4ms/step - loss: 145.1190\n",
      "Epoch 16/50\n",
      "3/3 [==============================] - 0s 3ms/step - loss: 123.1840\n",
      "Epoch 17/50\n",
      "3/3 [==============================] - 0s 3ms/step - loss: 102.6317\n",
      "Epoch 18/50\n",
      "3/3 [==============================] - 0s 3ms/step - loss: 84.3448\n",
      "Epoch 19/50\n",
      "3/3 [==============================] - 0s 3ms/step - loss: 69.0945\n",
      "Epoch 20/50\n",
      "3/3 [==============================] - 0s 3ms/step - loss: 55.3022\n",
      "Epoch 21/50\n",
      "3/3 [==============================] - 0s 2ms/step - loss: 43.3953\n",
      "Epoch 22/50\n",
      "3/3 [==============================] - 0s 3ms/step - loss: 33.1746\n",
      "Epoch 23/50\n",
      "3/3 [==============================] - 0s 3ms/step - loss: 25.6567\n",
      "Epoch 24/50\n",
      "3/3 [==============================] - 0s 3ms/step - loss: 18.4475\n",
      "Epoch 25/50\n",
      "3/3 [==============================] - 0s 3ms/step - loss: 12.5849\n",
      "Epoch 26/50\n",
      "3/3 [==============================] - 0s 3ms/step - loss: 8.5114\n",
      "Epoch 27/50\n",
      "3/3 [==============================] - 0s 6ms/step - loss: 5.7192\n",
      "Epoch 28/50\n",
      "3/3 [==============================] - 0s 4ms/step - loss: 3.2591\n",
      "Epoch 29/50\n",
      "3/3 [==============================] - 0s 7ms/step - loss: 2.0076\n",
      "Epoch 30/50\n",
      "3/3 [==============================] - 0s 4ms/step - loss: 1.0999\n",
      "Epoch 31/50\n",
      "3/3 [==============================] - 0s 3ms/step - loss: 0.5303\n",
      "Epoch 32/50\n",
      "3/3 [==============================] - 0s 3ms/step - loss: 0.4039\n",
      "Epoch 33/50\n",
      "3/3 [==============================] - 0s 3ms/step - loss: 0.3112\n",
      "Epoch 34/50\n",
      "3/3 [==============================] - 0s 4ms/step - loss: 0.2326\n",
      "Epoch 35/50\n",
      "3/3 [==============================] - 0s 4ms/step - loss: 0.2168\n",
      "Epoch 36/50\n",
      "3/3 [==============================] - 0s 4ms/step - loss: 0.2166\n",
      "Epoch 37/50\n",
      "3/3 [==============================] - 0s 4ms/step - loss: 0.2166\n",
      "Epoch 38/50\n",
      "3/3 [==============================] - 0s 5ms/step - loss: 0.2176\n",
      "Epoch 39/50\n",
      "3/3 [==============================] - 0s 4ms/step - loss: 0.2161\n",
      "Epoch 40/50\n",
      "3/3 [==============================] - 0s 4ms/step - loss: 0.2162\n",
      "Epoch 41/50\n",
      "3/3 [==============================] - 0s 4ms/step - loss: 0.2159\n",
      "Epoch 42/50\n",
      "3/3 [==============================] - 0s 5ms/step - loss: 0.2206\n",
      "Epoch 43/50\n",
      "3/3 [==============================] - 0s 4ms/step - loss: 0.2150\n",
      "Epoch 44/50\n",
      "3/3 [==============================] - 0s 3ms/step - loss: 0.2161\n",
      "Epoch 45/50\n",
      "3/3 [==============================] - 0s 4ms/step - loss: 0.2826\n",
      "Epoch 46/50\n",
      "3/3 [==============================] - 0s 4ms/step - loss: 0.2249\n",
      "Epoch 47/50\n",
      "3/3 [==============================] - 0s 3ms/step - loss: 0.2794\n",
      "Epoch 48/50\n",
      "3/3 [==============================] - 0s 4ms/step - loss: 0.2249\n",
      "Epoch 49/50\n",
      "3/3 [==============================] - 0s 4ms/step - loss: 0.2730\n",
      "Epoch 50/50\n",
      "3/3 [==============================] - 0s 3ms/step - loss: 0.3503\n"
     ]
    },
    {
     "data": {
      "text/plain": [
       "<keras.callbacks.History at 0x7f2490190898>"
      ]
     },
     "execution_count": 14,
     "metadata": {},
     "output_type": "execute_result"
    }
   ],
   "source": [
    "model.fit(x,y,epochs=50)"
   ]
  },
  {
   "cell_type": "code",
   "execution_count": 15,
   "id": "d4bd1305",
   "metadata": {},
   "outputs": [
    {
     "data": {
      "image/png": "[encoded data removed]",
      "text/plain": [
       "<Figure size 432x288 with 1 Axes>"
      ]
     },
     "metadata": {},
     "output_type": "display_data"
    }
   ],
   "source": [
    "plt.scatter(x,y)\n",
    "plt.plot(x,model.predict(x))\n",
    "plt.show()"
   ]
  },
  {
   "cell_type": "code",
   "execution_count": null,
   "id": "45b514c4",
   "metadata": {},
   "outputs": [],
   "source": []
  }
 ],
 "metadata": {
  "kernelspec": {
   "display_name": "Python 3",
   "language": "python",
   "name": "python3"
  },
  "language_info": {
   "codemirror_mode": {
    "name": "ipython",
    "version": 3
   },
   "file_extension": ".py",
   "mimetype": "text/x-python",
   "name": "python",
   "nbconvert_exporter": "python",
   "pygments_lexer": "ipython3",
   "version": "3.6.13"
  }
 },
 "nbformat": 4,
 "nbformat_minor": 5
}
