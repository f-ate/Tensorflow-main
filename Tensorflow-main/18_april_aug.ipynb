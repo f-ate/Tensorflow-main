{
 "cells": [
  {
   "cell_type": "code",
   "execution_count": null,
   "id": "aded0060",
   "metadata": {},
   "outputs": [],
   "source": [
    "# only for cuda enabled laptop and desktop\n",
    "import tensorflow as tf\n",
    "physical_devices = tf.config.experimental.list_physical_devices('GPU')\n",
    "print(physical_devices)\n",
    "if physical_devices:\n",
    "  tf.config.experimental.set_memory_growth(physical_devices[0], True)"
   ]
  },
  {
   "cell_type": "code",
   "execution_count": null,
   "id": "a5f8d641",
   "metadata": {},
   "outputs": [],
   "source": [
    "import urllib #url specify\n",
    "import tensorflow as tf\n",
    "import PIL.Image #Pillow use for image processing\n",
    "import matplotlib.pyplot as plt\n",
    "import matplotlib as mpl\n",
    "mpl.rcParams['figure.figsize'] = (12,5)\n",
    "import numpy as np"
   ]
  },
  {
   "cell_type": "code",
   "execution_count": null,
   "id": "ca136b05",
   "metadata": {},
   "outputs": [],
   "source": [
    "image_path = tf.keras.utils.get_file(\"cat.jpg\",\"https://storage.googleapis.com/download.tensorflow.org/example_images/320px-Felis_catus-cat_on_snow.jpg\")"
   ]
  },
  {
   "cell_type": "code",
   "execution_count": null,
   "id": "6e21fc57",
   "metadata": {},
   "outputs": [],
   "source": [
    "image_path"
   ]
  },
  {
   "cell_type": "code",
   "execution_count": null,
   "id": "12e8736f",
   "metadata": {},
   "outputs": [],
   "source": [
    "PIL.Image.open(image_path)"
   ]
  },
  {
   "cell_type": "code",
   "execution_count": null,
   "id": "96e90693",
   "metadata": {},
   "outputs": [],
   "source": [
    "image_String1 = tf.io.read_file(image_path) #convert into tensor(tensor is like array but it is in binary)"
   ]
  },
  {
   "cell_type": "code",
   "execution_count": null,
   "id": "67bfb47f",
   "metadata": {},
   "outputs": [],
   "source": [
    "image_String1"
   ]
  },
  {
   "cell_type": "code",
   "execution_count": null,
   "id": "88ed30e1",
   "metadata": {},
   "outputs": [],
   "source": [
    "image = tf.image.decode_jpeg(image_String1,channels=3)"
   ]
  },
  {
   "cell_type": "code",
   "execution_count": null,
   "id": "9beb14ba",
   "metadata": {},
   "outputs": [],
   "source": [
    "image"
   ]
  },
  {
   "cell_type": "code",
   "execution_count": null,
   "id": "3a100f17",
   "metadata": {},
   "outputs": [],
   "source": [
    "plt.imshow(image)"
   ]
  },
  {
   "cell_type": "code",
   "execution_count": null,
   "id": "e58b10fe",
   "metadata": {},
   "outputs": [],
   "source": [
    "image.shape"
   ]
  },
  {
   "cell_type": "code",
   "execution_count": null,
   "id": "c91be727",
   "metadata": {},
   "outputs": [],
   "source": [
    "def visualize(orignal,augmented):\n",
    "    fig = plt.figure()\n",
    "    plt.subplot(1,2,1)\n",
    "    plt.title('Original')\n",
    "    plt.imshow(orignal)\n",
    "    plt.subplot(1,2,2)\n",
    "    plt.title('Augmented')\n",
    "    plt.imshow(augmented)"
   ]
  },
  {
   "cell_type": "code",
   "execution_count": null,
   "id": "3fae1bac",
   "metadata": {},
   "outputs": [],
   "source": [
    "flipped = tf.image.flip_left_right(image)"
   ]
  },
  {
   "cell_type": "code",
   "execution_count": null,
   "id": "1bafb69b",
   "metadata": {},
   "outputs": [],
   "source": [
    "plt.imshow(flipped)"
   ]
  },
  {
   "cell_type": "code",
   "execution_count": null,
   "id": "6697505a",
   "metadata": {},
   "outputs": [],
   "source": [
    "visualize(image,flipped)"
   ]
  },
  {
   "cell_type": "code",
   "execution_count": null,
   "id": "547ec29b",
   "metadata": {},
   "outputs": [],
   "source": [
    "grayscaled = tf.image.rgb_to_grayscale(image)"
   ]
  },
  {
   "cell_type": "code",
   "execution_count": null,
   "id": "b3d13abc",
   "metadata": {},
   "outputs": [],
   "source": [
    "visualize(image,tf.squeeze(grayscaled))\n",
    "plt.colorbar()"
   ]
  },
  {
   "cell_type": "code",
   "execution_count": null,
   "id": "3db2e026",
   "metadata": {},
   "outputs": [],
   "source": [
    "plt.imshow(tf.squeeze(grayscaled),cmap='gray_r')"
   ]
  },
  {
   "cell_type": "code",
   "execution_count": null,
   "id": "6083f447",
   "metadata": {},
   "outputs": [],
   "source": [
    "saturated = tf.image.adjust_saturation(image,5)\n",
    "visualize(image,saturated)"
   ]
  },
  {
   "cell_type": "code",
   "execution_count": null,
   "id": "816b5dba",
   "metadata": {},
   "outputs": [],
   "source": [
    "bright = tf.image.adjust_brightness(image,0.4)\n",
    "visualize(image,bright)"
   ]
  },
  {
   "cell_type": "code",
   "execution_count": null,
   "id": "51e2b248",
   "metadata": {},
   "outputs": [],
   "source": [
    "rotated = tf.image.rot90(image)\n",
    "visualize(image,rotated)"
   ]
  },
  {
   "cell_type": "code",
   "execution_count": null,
   "id": "470a7cff",
   "metadata": {},
   "outputs": [],
   "source": [
    "cencropped = tf.image.central_crop(image,central_fraction=0.5)\n",
    "visualize(image,cencropped)"
   ]
  },
  {
   "cell_type": "code",
   "execution_count": null,
   "id": "006d1c34",
   "metadata": {},
   "outputs": [],
   "source": [
    "contras = tf.image.adjust_contrast(image,0.3)\n",
    "visualize(image,contras)"
   ]
  },
  {
   "cell_type": "code",
   "execution_count": null,
   "id": "0fb8e281",
   "metadata": {},
   "outputs": [],
   "source": [
    "aug1 = tf.image.flip_up_down(image)\n",
    "visualize(image,aug1)"
   ]
  },
  {
   "cell_type": "code",
   "execution_count": null,
   "id": "f5d12cc3",
   "metadata": {},
   "outputs": [],
   "source": []
  }
 ],
 "metadata": {
  "kernelspec": {
   "display_name": "Python 3",
   "language": "python",
   "name": "python3"
  },
  "language_info": {
   "codemirror_mode": {
    "name": "ipython",
    "version": 3
   },
   "file_extension": ".py",
   "mimetype": "text/x-python",
   "name": "python",
   "nbconvert_exporter": "python",
   "pygments_lexer": "ipython3",
   "version": "3.6.13"
  }
 },
 "nbformat": 4,
 "nbformat_minor": 5
}
