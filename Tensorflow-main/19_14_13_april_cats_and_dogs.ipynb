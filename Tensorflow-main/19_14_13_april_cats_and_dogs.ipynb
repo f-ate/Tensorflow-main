{
 "cells": [
  {
   "cell_type": "code",
   "execution_count": null,
   "id": "bddf2668",
   "metadata": {},
   "outputs": [],
   "source": [
    "# only for cuda enabled laptop and desktop\n",
    "import tensorflow as tf\n",
    "physical_devices = tf.config.experimental.list_physical_devices('GPU')\n",
    "print(physical_devices)\n",
    "if physical_devices:\n",
    "  tf.config.experimental.set_memory_growth(physical_devices[0], True)"
   ]
  },
  {
   "cell_type": "code",
   "execution_count": null,
   "id": "bcfbf4e9",
   "metadata": {},
   "outputs": [],
   "source": [
    "import tensorflow as tf\n",
    "tf.keras.utils.get_file('cats_and_dogs_filtered.zip',\"https://storage.googleapis.com/mledu-datasets/cats_and_dogs_filtered.zip\")"
   ]
  },
  {
   "cell_type": "code",
   "execution_count": null,
   "id": "7b11332e",
   "metadata": {},
   "outputs": [],
   "source": [
    "import os\n",
    "import zipfile #to handle zip file\n",
    "\n",
    "local_zip = '/home/aarav/.keras/datasets/cats_and_dogs_filtered.zip'\n",
    "zip_ref = zipfile.ZipFile(local_zip, 'r')\n",
    "zip_ref.extractall()\n",
    "zip_ref.close()"
   ]
  },
  {
   "cell_type": "code",
   "execution_count": null,
   "id": "87a92c25",
   "metadata": {},
   "outputs": [],
   "source": [
    "os.listdir('cats_and_dogs_filtered')"
   ]
  },
  {
   "cell_type": "code",
   "execution_count": null,
   "id": "e9e2789a",
   "metadata": {},
   "outputs": [],
   "source": [
    "os.listdir('cats_and_dogs_filtered/validation')"
   ]
  },
  {
   "cell_type": "code",
   "execution_count": null,
   "id": "573653b6",
   "metadata": {},
   "outputs": [],
   "source": [
    "os.listdir('cats_and_dogs_filtered/validation/cats')"
   ]
  },
  {
   "cell_type": "code",
   "execution_count": null,
   "id": "db806c34",
   "metadata": {},
   "outputs": [],
   "source": [
    "len(os.listdir('cats_and_dogs_filtered/validation/cats'))"
   ]
  },
  {
   "cell_type": "code",
   "execution_count": null,
   "id": "815c2234",
   "metadata": {},
   "outputs": [],
   "source": [
    "len(os.listdir('cats_and_dogs_filtered/validation/dogs'))"
   ]
  },
  {
   "cell_type": "code",
   "execution_count": null,
   "id": "f2cd544b",
   "metadata": {},
   "outputs": [],
   "source": [
    "len(os.listdir('cats_and_dogs_filtered/train/cats'))"
   ]
  },
  {
   "cell_type": "code",
   "execution_count": null,
   "id": "5a1e00d1",
   "metadata": {},
   "outputs": [],
   "source": [
    "len(os.listdir('cats_and_dogs_filtered/train/dogs'))"
   ]
  },
  {
   "cell_type": "code",
   "execution_count": null,
   "id": "f9cfd9e2",
   "metadata": {},
   "outputs": [],
   "source": [
    "for fname in os.listdir('cats_and_dogs_filtered/train/dogs'):\n",
    "  print(fname)"
   ]
  },
  {
   "cell_type": "code",
   "execution_count": null,
   "id": "1cfd86f4",
   "metadata": {},
   "outputs": [],
   "source": [
    "from keras.preprocessing.image import array_to_img, img_to_array, load_img"
   ]
  },
  {
   "cell_type": "code",
   "execution_count": null,
   "id": "00b8fef9",
   "metadata": {},
   "outputs": [],
   "source": [
    "image_1 = load_img('cats_and_dogs_filtered/train/dogs/dog.131.jpg')"
   ]
  },
  {
   "cell_type": "code",
   "execution_count": null,
   "id": "b9f5e5a4",
   "metadata": {},
   "outputs": [],
   "source": [
    "image_1"
   ]
  },
  {
   "cell_type": "code",
   "execution_count": null,
   "id": "2fc1a8f0",
   "metadata": {},
   "outputs": [],
   "source": [
    "image_2 = load_img('cats_and_dogs_filtered/validation/cats/cat.2352.jpg')"
   ]
  },
  {
   "cell_type": "code",
   "execution_count": null,
   "id": "0750ccdd",
   "metadata": {},
   "outputs": [],
   "source": [
    "image_2"
   ]
  },
  {
   "cell_type": "code",
   "execution_count": null,
   "id": "51fbed28",
   "metadata": {},
   "outputs": [],
   "source": [
    "from tensorflow.keras.models import Sequential\n",
    "from tensorflow.keras.layers import Dense,Conv2D,Flatten,Dropout,MaxPooling2D\n",
    "from tensorflow.keras.preprocessing.image import ImageDataGenerator\n",
    "import numpy as np\n",
    "import matplotlib.pyplot as plt"
   ]
  },
  {
   "cell_type": "code",
   "execution_count": null,
   "id": "38968ce3",
   "metadata": {},
   "outputs": [],
   "source": [
    "path = os.path.join('cats_and_dogs_filtered')"
   ]
  },
  {
   "cell_type": "code",
   "execution_count": null,
   "id": "38a52f3f",
   "metadata": {},
   "outputs": [],
   "source": [
    "path"
   ]
  },
  {
   "cell_type": "code",
   "execution_count": null,
   "id": "69aee471",
   "metadata": {},
   "outputs": [],
   "source": [
    "train_dir = os.path.join(path,'train')"
   ]
  },
  {
   "cell_type": "code",
   "execution_count": null,
   "id": "c6882637",
   "metadata": {},
   "outputs": [],
   "source": [
    "train_dir"
   ]
  },
  {
   "cell_type": "code",
   "execution_count": null,
   "id": "ed66ec32",
   "metadata": {},
   "outputs": [],
   "source": [
    "validation_dir = os.path.join(path,'validation')"
   ]
  },
  {
   "cell_type": "code",
   "execution_count": null,
   "id": "e12f66a1",
   "metadata": {},
   "outputs": [],
   "source": [
    "validation_dir"
   ]
  },
  {
   "cell_type": "code",
   "execution_count": null,
   "id": "8575af86",
   "metadata": {},
   "outputs": [],
   "source": [
    "train_cats_dir = os.path.join(train_dir,'cats')\n",
    "train_dogs_dir = os.path.join(train_dir,'dogs')"
   ]
  },
  {
   "cell_type": "code",
   "execution_count": null,
   "id": "662f9bbf",
   "metadata": {},
   "outputs": [],
   "source": [
    "train_cats_dir"
   ]
  },
  {
   "cell_type": "code",
   "execution_count": null,
   "id": "acf21a6b",
   "metadata": {},
   "outputs": [],
   "source": [
    "train_dogs_dir"
   ]
  },
  {
   "cell_type": "code",
   "execution_count": null,
   "id": "83ca69a5",
   "metadata": {},
   "outputs": [],
   "source": [
    "validation_cats_dir = os.path.join(validation_dir,'cats')\n",
    "validation_dogs_dir = os.path.join(validation_dir,'dogs')"
   ]
  },
  {
   "cell_type": "code",
   "execution_count": null,
   "id": "9a01480a",
   "metadata": {},
   "outputs": [],
   "source": [
    "validation_cats_dir"
   ]
  },
  {
   "cell_type": "code",
   "execution_count": null,
   "id": "b2fb5d35",
   "metadata": {},
   "outputs": [],
   "source": [
    "validation_dogs_dir"
   ]
  },
  {
   "cell_type": "code",
   "execution_count": null,
   "id": "612adb88",
   "metadata": {},
   "outputs": [],
   "source": [
    "os.listdir(validation_dogs_dir)"
   ]
  },
  {
   "cell_type": "code",
   "execution_count": null,
   "id": "7cbfede4",
   "metadata": {},
   "outputs": [],
   "source": [
    "type(os.listdir(validation_dogs_dir))"
   ]
  },
  {
   "cell_type": "code",
   "execution_count": null,
   "id": "99f1b6fe",
   "metadata": {},
   "outputs": [],
   "source": [
    "num_cats_tr = len(os.listdir(train_cats_dir))\n",
    "num_dogs_tr = len(os.listdir(train_dogs_dir))\n",
    "num_cats_val = len(os.listdir(validation_cats_dir))\n",
    "num_dogs_val = len(os.listdir(validation_dogs_dir))\n",
    "print('Cat training data ',num_cats_tr)\n",
    "print('Dog training Data ',num_dogs_tr)\n",
    "print('Cat Valid data ',num_cats_val)\n",
    "print('Dog valid data ',num_dogs_val)"
   ]
  },
  {
   "cell_type": "code",
   "execution_count": null,
   "id": "26d0eddc",
   "metadata": {},
   "outputs": [],
   "source": [
    "total_train=num_cats_tr+num_dogs_tr\n",
    "total_val=num_cats_val+num_dogs_val\n",
    "print('Total Training images',total_train)\n",
    "print('Total validation images',total_val)"
   ]
  },
  {
   "cell_type": "code",
   "execution_count": null,
   "id": "be7c2c7a",
   "metadata": {},
   "outputs": [],
   "source": [
    "batch_size = 200\n",
    "epochs = 25\n",
    "IMG_HIEGHT = 150\n",
    "IMG_WIDHT = 150"
   ]
  },
  {
   "cell_type": "code",
   "execution_count": null,
   "id": "adc5089f",
   "metadata": {},
   "outputs": [],
   "source": [
    "train_image_generator = ImageDataGenerator(rescale=1./255)\n",
    "validation_image_generator = ImageDataGenerator(rescale=1./255)"
   ]
  },
  {
   "cell_type": "code",
   "execution_count": null,
   "id": "9e253dd6",
   "metadata": {},
   "outputs": [],
   "source": [
    "train_data_gen = train_image_generator.flow_from_directory(batch_size=batch_size,\n",
    "                                                           directory=train_dir,\n",
    "                                                           shuffle=True,\n",
    "                                                           target_size=(IMG_HIEGHT,IMG_WIDHT),\n",
    "                                                           class_mode='binary')"
   ]
  },
  {
   "cell_type": "code",
   "execution_count": null,
   "id": "c62f4acf",
   "metadata": {},
   "outputs": [],
   "source": [
    "train_data_gen.class_indices"
   ]
  },
  {
   "cell_type": "code",
   "execution_count": null,
   "id": "2c7c6203",
   "metadata": {},
   "outputs": [],
   "source": [
    "val_data_gen = validation_image_generator.flow_from_directory(batch_size=batch_size,\n",
    "                                                              directory=validation_dir,\n",
    "                                                              target_size=(IMG_HIEGHT,IMG_WIDHT),\n",
    "                                                              class_mode='binary')"
   ]
  },
  {
   "cell_type": "code",
   "execution_count": null,
   "id": "f4b5b222",
   "metadata": {},
   "outputs": [],
   "source": [
    "sample_train_images, label = next(train_data_gen)"
   ]
  },
  {
   "cell_type": "code",
   "execution_count": null,
   "id": "d68925be",
   "metadata": {},
   "outputs": [],
   "source": [
    "label"
   ]
  },
  {
   "cell_type": "code",
   "execution_count": null,
   "id": "eba5699a",
   "metadata": {},
   "outputs": [],
   "source": [
    "sample_train_images.shape"
   ]
  },
  {
   "cell_type": "code",
   "execution_count": null,
   "id": "bb03d097",
   "metadata": {},
   "outputs": [],
   "source": [
    "sample_train_images[0]"
   ]
  },
  {
   "cell_type": "code",
   "execution_count": null,
   "id": "a522c375",
   "metadata": {},
   "outputs": [],
   "source": [
    "plt.imshow(sample_train_images[0])"
   ]
  },
  {
   "cell_type": "code",
   "execution_count": null,
   "id": "17bca5a1",
   "metadata": {},
   "outputs": [],
   "source": [
    "sample_train_images[45].shape"
   ]
  },
  {
   "cell_type": "code",
   "execution_count": null,
   "id": "f4b3287b",
   "metadata": {},
   "outputs": [],
   "source": [
    "def plotImages(images_arr):\n",
    "    fig, axes = plt.subplots(1,5,figsize=(20,20))\n",
    "    axes = axes.flatten()\n",
    "    for img,ax in zip(images_arr,axes):\n",
    "        ax.imshow(img)\n",
    "        ax.axis('off')\n",
    "    plt.tight_layout()\n",
    "    plt.show()"
   ]
  },
  {
   "cell_type": "code",
   "execution_count": null,
   "id": "ed54b4ca",
   "metadata": {},
   "outputs": [],
   "source": [
    "plotImages(sample_train_images[24:29])"
   ]
  },
  {
   "cell_type": "code",
   "execution_count": null,
   "id": "30f0e574",
   "metadata": {},
   "outputs": [],
   "source": [
    "model = Sequential([\n",
    "    Conv2D(16,3,padding='same',activation='relu',input_shape=(IMG_HIEGHT,IMG_WIDHT,3)),\n",
    "    MaxPooling2D(),\n",
    "    Conv2D(32,3,padding='same',activation='relu'),\n",
    "    MaxPooling2D(),\n",
    "    Conv2D(64,3,padding='same',activation='relu'),\n",
    "    MaxPooling2D(),\n",
    "    Flatten(),\n",
    "    Dense(512,activation='relu'),\n",
    "    Dense(1,activation='sigmoid')\n",
    "])"
   ]
  },
  {
   "cell_type": "code",
   "execution_count": null,
   "id": "3496a33e",
   "metadata": {},
   "outputs": [],
   "source": [
    "model.summary()"
   ]
  },
  {
   "cell_type": "code",
   "execution_count": null,
   "id": "eb64f73c",
   "metadata": {},
   "outputs": [],
   "source": [
    "model.compile(optimizer='adam',loss=tf.keras.losses.BinaryCrossentropy(from_logits=True),metrics=['accuracy'])"
   ]
  },
  {
   "cell_type": "code",
   "execution_count": null,
   "id": "d3f68359",
   "metadata": {},
   "outputs": [],
   "source": [
    "history = model.fit(train_data_gen,steps_per_epoch=total_train//batch_size,epochs=epochs,\n",
    "                             validation_data=val_data_gen,validation_steps=total_val//batch_size)"
   ]
  },
  {
   "cell_type": "code",
   "execution_count": null,
   "id": "27186be0",
   "metadata": {},
   "outputs": [],
   "source": [
    "history.history"
   ]
  },
  {
   "cell_type": "code",
   "execution_count": null,
   "id": "140bfd93",
   "metadata": {},
   "outputs": [],
   "source": []
  },
  {
   "cell_type": "code",
   "execution_count": null,
   "id": "511a212f",
   "metadata": {},
   "outputs": [],
   "source": [
    "acc = history.history['accuracy']\n",
    "val_acc = history.history['val_accuracy']\n",
    "loss = history.history['loss']\n",
    "val_loss = history.history['val_loss']\n",
    "epochs_range = range(epochs)\n",
    "plt.figure(figsize=(8,4))\n",
    "plt.subplot(1,2,1)\n",
    "plt.plot(epochs_range,acc,label='Training Accuracy')\n",
    "plt.plot(epochs_range,val_acc,label='Val Accuracy')\n",
    "plt.legend(loc='lower right')\n",
    "plt.title('Accuracy')\n",
    "plt.subplot(1,2,2)\n",
    "plt.plot(epochs_range,loss,label='Training Loss')\n",
    "plt.plot(epochs_range,val_loss,label='Val LOss')\n",
    "plt.legend(loc=0)\n",
    "plt.title('Loss')\n",
    "plt.show()"
   ]
  },
  {
   "cell_type": "code",
   "execution_count": null,
   "id": "dacb70e2",
   "metadata": {},
   "outputs": [],
   "source": [
    "# deal with overfitting"
   ]
  },
  {
   "cell_type": "code",
   "execution_count": null,
   "id": "f34d63d0",
   "metadata": {},
   "outputs": [],
   "source": [
    "#data augmentation\n",
    "image_gen_train = ImageDataGenerator(rescale=1./255,\n",
    "                                    rotation_range=45,\n",
    "                                    width_shift_range=.15,\n",
    "                                    height_shift_range=.15,\n",
    "                                    horizontal_flip=True,\n",
    "                                    zoom_range=0.5)"
   ]
  },
  {
   "cell_type": "code",
   "execution_count": null,
   "id": "8da5e211",
   "metadata": {},
   "outputs": [],
   "source": [
    "train_data_gen = image_gen_train.flow_from_directory(batch_size=batch_size,\n",
    "                                                    directory=train_dir,\n",
    "                                                    shuffle=True,\n",
    "                                                    target_size=(IMG_HIEGHT,IMG_HIEGHT),\n",
    "                                                    class_mode='binary')"
   ]
  },
  {
   "cell_type": "code",
   "execution_count": null,
   "id": "ec82a6ff",
   "metadata": {},
   "outputs": [],
   "source": [
    "augmented_images = [train_data_gen[0][0][0] for i in range(5)]\n",
    "plotImages(augmented_images)"
   ]
  },
  {
   "cell_type": "code",
   "execution_count": null,
   "id": "f656a7ea",
   "metadata": {},
   "outputs": [],
   "source": [
    "image_gen_val = ImageDataGenerator(rescale=1./255)\n",
    "val_data_gen = image_gen_val.flow_from_directory(batch_size=batch_size,\n",
    "                                                directory=validation_dir,\n",
    "                                                target_size=(IMG_HIEGHT,IMG_WIDHT),\n",
    "                                                class_mode='binary')"
   ]
  },
  {
   "cell_type": "code",
   "execution_count": null,
   "id": "7b89cbe3",
   "metadata": {},
   "outputs": [],
   "source": [
    "model_new = Sequential([\n",
    "    Conv2D(16,3,padding='same',activation='relu',input_shape=(IMG_HIEGHT,IMG_WIDHT,3)),\n",
    "    MaxPooling2D(),\n",
    "    Dropout(0.2),\n",
    "    Conv2D(32,3,padding='same',activation='relu'),\n",
    "    MaxPooling2D(),\n",
    "    Dropout(0.2),\n",
    "    Conv2D(64,3,padding='same',activation='relu'),\n",
    "    MaxPooling2D(),\n",
    "    Dropout(0.2),\n",
    "    Flatten(),\n",
    "    Dense(512,activation='relu'),\n",
    "    Dropout(0.2),\n",
    "    Dense(1,activation='sigmoid')\n",
    "])"
   ]
  },
  {
   "cell_type": "code",
   "execution_count": null,
   "id": "7361513b",
   "metadata": {},
   "outputs": [],
   "source": [
    "model_new.summary()"
   ]
  },
  {
   "cell_type": "code",
   "execution_count": null,
   "id": "069937a4",
   "metadata": {},
   "outputs": [],
   "source": [
    "epochs = 100"
   ]
  },
  {
   "cell_type": "code",
   "execution_count": null,
   "id": "5be5ce3d",
   "metadata": {},
   "outputs": [],
   "source": [
    "model_new.compile(optimizer='adam',loss='binary_crossentropy',metrics=['accuracy'])"
   ]
  },
  {
   "cell_type": "code",
   "execution_count": null,
   "id": "0ecc9768",
   "metadata": {},
   "outputs": [],
   "source": [
    "history = model_new.fit(train_data_gen,steps_per_epoch=total_train//batch_size,\n",
    "                                 epochs=epochs,\n",
    "                                 validation_data=val_data_gen,\n",
    "                                 validation_steps=total_val//batch_size)"
   ]
  },
  {
   "cell_type": "code",
   "execution_count": null,
   "id": "b3ebdc38",
   "metadata": {},
   "outputs": [],
   "source": [
    "acc = history.history['accuracy']\n",
    "val_acc = history.history['val_accuracy']\n",
    "loss = history.history['loss']\n",
    "val_loss = history.history['val_loss']\n",
    "epochs_range = range(epochs)\n",
    "plt.figure(figsize=(8,4))\n",
    "plt.subplot(1,2,1)\n",
    "plt.plot(epochs_range,acc,label='Training Accuracy')\n",
    "plt.plot(epochs_range,val_acc,label='Val Accuracy')\n",
    "plt.legend(loc='lower right')\n",
    "plt.title('Accuracy')\n",
    "plt.subplot(1,2,2)\n",
    "plt.plot(epochs_range,loss,label='Training Loss')\n",
    "plt.plot(epochs_range,val_loss,label='Val LOss')\n",
    "plt.legend(loc='upper right')\n",
    "plt.title('Loss')\n",
    "plt.show()"
   ]
  },
  {
   "cell_type": "code",
   "execution_count": null,
   "id": "8fd4cbf9",
   "metadata": {},
   "outputs": [],
   "source": [
    "import tensorflow as tf"
   ]
  },
  {
   "cell_type": "code",
   "execution_count": null,
   "id": "8340d6e1",
   "metadata": {},
   "outputs": [],
   "source": [
    "# save model"
   ]
  },
  {
   "cell_type": "code",
   "execution_count": null,
   "id": "dbc85de7",
   "metadata": {},
   "outputs": [],
   "source": [
    "tf.keras.models.save_model(model_new,'cat_dog.h5')"
   ]
  },
  {
   "cell_type": "code",
   "execution_count": null,
   "id": "dcab110f",
   "metadata": {},
   "outputs": [],
   "source": []
  }
 ],
 "metadata": {
  "kernelspec": {
   "display_name": "Python 3",
   "language": "python",
   "name": "python3"
  },
  "language_info": {
   "codemirror_mode": {
    "name": "ipython",
    "version": 3
   },
   "file_extension": ".py",
   "mimetype": "text/x-python",
   "name": "python",
   "nbconvert_exporter": "python",
   "pygments_lexer": "ipython3",
   "version": "3.6.13"
  }
 },
 "nbformat": 4,
 "nbformat_minor": 5
}
